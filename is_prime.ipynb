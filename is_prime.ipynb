{
  "nbformat": 4,
  "nbformat_minor": 0,
  "metadata": {
    "colab": {
      "name": "is_prime.ipynb",
      "provenance": [],
      "collapsed_sections": [],
      "authorship_tag": "ABX9TyPqbL7eKBC+bWI2WI+f93Dq",
      "include_colab_link": true
    },
    "kernelspec": {
      "name": "python3",
      "display_name": "Python 3"
    },
    "language_info": {
      "name": "python"
    }
  },
  "cells": [
    {
      "cell_type": "markdown",
      "metadata": {
        "id": "view-in-github",
        "colab_type": "text"
      },
      "source": [
        "<a href=\"https://colab.research.google.com/github/datacode-tr/assingment4/blob/main/is_prime.ipynb\" target=\"_parent\"><img src=\"https://colab.research.google.com/assets/colab-badge.svg\" alt=\"Open In Colab\"/></a>"
      ]
    },
    {
      "cell_type": "code",
      "metadata": {
        "colab": {
          "base_uri": "https://localhost:8080/"
        },
        "id": "hdlVFzrrnB33",
        "outputId": "70ee0fad-c150-467f-887a-abf620b596fe"
      },
      "source": [
        "n = int(input('Enter a number: '))\n",
        "\n",
        "count = 0\n",
        "\n",
        "for i in range(1,n+1) :\n",
        "\n",
        "    if not n% i:\n",
        "\n",
        "        count += 1\n",
        "\n",
        "if count >= 3:\n",
        "\n",
        "    print(n, 'is not prime number')\n",
        "\n",
        "else:\n",
        "\n",
        "    print(n, 'is a prime number')"
      ],
      "execution_count": 1,
      "outputs": [
        {
          "output_type": "stream",
          "text": [
            "Entera number: 47\n",
            "47 is a prime number\n"
          ],
          "name": "stdout"
        }
      ]
    }
  ]
}